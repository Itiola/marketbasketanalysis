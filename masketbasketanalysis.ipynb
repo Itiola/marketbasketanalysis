{
 "cells": [
  {
   "cell_type": "code",
   "execution_count": 34,
   "id": "54c9fca9-86ba-4a36-82f5-904c4a8e2a63",
   "metadata": {},
   "outputs": [
    {
     "name": "stdout",
     "output_type": "stream",
     "text": [
      "      InvoiceId                           Name\n",
      "0            98            Experiment In Terra\n",
      "1            98              Take the Celestra\n",
      "2           121              Shout It Out Loud\n",
      "3           121               Calling Dr. Love\n",
      "4           121                       Strutter\n",
      "...         ...                            ...\n",
      "2235        284           Esporrei Na Manivela\n",
      "2236        284  No Fundo Do Quintal Da Escola\n",
      "2237        284                 Que Luz É Essa\n",
      "2238        284          The Power Of Equality\n",
      "2239        284   Mellowship Slinky In B Major\n",
      "\n",
      "[2240 rows x 2 columns]\n"
     ]
    }
   ],
   "source": [
    "import sqlite3\n",
    "import pandas as pd\n",
    "from mlxtend.preprocessing import TransactionEncoder\n",
    "from mlxtend.frequent_patterns import apriori, association_rules\n",
    "\n",
    "# Step 1: Connect to SQLite Database and Extract Data\n",
    "conn = sqlite3.connect('chinook.db')\n",
    "\n",
    "# SQL query to get all tracks purchased in each invoice\n",
    "query = \"\"\"\n",
    "SELECT \n",
    "    invoices.InvoiceId,\n",
    "    tracks.Name\n",
    "FROM \n",
    "    invoice_items\n",
    "INNER JOIN \n",
    "    invoices ON invoice_items.InvoiceId = invoices.InvoiceId\n",
    "INNER JOIN \n",
    "    tracks ON invoice_items.TrackId = tracks.TrackId;\n",
    "\"\"\"\n",
    "\n",
    "# Execute the query and load the result into a pandas DataFrame\n",
    "df = pd.read_sql_query(query, conn)\n",
    "print(df)\n",
    "\n",
    "# Close the database connection\n",
    "conn.close()\n"
   ]
  },
  {
   "cell_type": "code",
   "execution_count": 35,
   "id": "5c9341c3-754f-4aad-81aa-a64e91649d1d",
   "metadata": {},
   "outputs": [],
   "source": [
    "# Step 2: Group the Data by InvoiceId and Create a List of Transactions\n",
    "transactions = df.groupby('InvoiceId')['Name'].apply(list).tolist()\n"
   ]
  },
  {
   "cell_type": "code",
   "execution_count": 36,
   "id": "ee2ef8e1-935e-45fa-9f7f-01b0efc858d4",
   "metadata": {},
   "outputs": [
    {
     "name": "stdout",
     "output_type": "stream",
     "text": [
      "     \"?\"  #9 Dream  'Round Midnight  (Anesthesia) Pulling Teeth  \\\n",
      "0  False     False            False                       False   \n",
      "1  False     False            False                       False   \n",
      "2  False     False            False                       False   \n",
      "3  False     False            False                       False   \n",
      "4  False     False            False                       False   \n",
      "\n",
      "   (White Man) In Hammersmith Palais  (Wish I Could) Hideaway  ...And Found  \\\n",
      "0                              False                    False         False   \n",
      "1                              False                    False         False   \n",
      "2                              False                    False         False   \n",
      "3                              False                    False         False   \n",
      "4                              False                    False         False   \n",
      "\n",
      "   ...And Justice For All  01 - Prowler  04 - Running Free  ...  Zé Trindade  \\\n",
      "0                   False         False              False  ...        False   \n",
      "1                   False         False              False  ...        False   \n",
      "2                   False         False              False  ...        False   \n",
      "3                   False         False              False  ...        False   \n",
      "4                   False         False              False  ...        False   \n",
      "\n",
      "   [Just Like] Starting Over  [Untitled]  Às Vezes  Água E Fogo  \\\n",
      "0                      False       False     False        False   \n",
      "1                      False       False     False        False   \n",
      "2                      False       False     False        False   \n",
      "3                      False       False     False        False   \n",
      "4                      False       False     False        False   \n",
      "\n",
      "   Água de Beber  Álibi  É Fogo  \\\n",
      "0          False  False   False   \n",
      "1          False  False   False   \n",
      "2          False  False   False   \n",
      "3          False  False   False   \n",
      "4          False  False   False   \n",
      "\n",
      "   Étude 1, In C Major - Preludio (Presto) - Liszt  Óculos  \n",
      "0                                            False   False  \n",
      "1                                            False   False  \n",
      "2                                            False   False  \n",
      "3                                            False   False  \n",
      "4                                            False   False  \n",
      "\n",
      "[5 rows x 1888 columns]\n"
     ]
    }
   ],
   "source": [
    "# Step 3: Convert the Transaction Data to a Binary Matrix\n",
    "te = TransactionEncoder()\n",
    "te_ary = te.fit(transactions).transform(transactions)\n",
    "binary_df = pd.DataFrame(te_ary, columns=te.columns_)\n",
    "\n",
    "print(binary_df.head())"
   ]
  },
  {
   "cell_type": "code",
   "execution_count": null,
   "id": "0ef71357-9bb7-453c-87b9-117bceb44403",
   "metadata": {},
   "outputs": [],
   "source": [
    "# Step 4: Apply the Apriori Algorithm to Find Frequent Itemsets\n",
    "# Set a minimum support threshold (e.g., 0.001 means an itemset appears in 0.5% of transactions)\n",
    "frequent_itemsets = apriori(binary_df, min_support=0.005, use_colnames=True)\n"
   ]
  },
  {
   "cell_type": "code",
   "execution_count": null,
   "id": "8f69569b-463c-418b-b4da-57f81cd54cd4",
   "metadata": {},
   "outputs": [],
   "source": [
    "\n",
    "# Step 5: Generate Association Rules from the Frequent Itemsets\n",
    "# Set a minimum confidence threshold (e.g., 0.01 means a rule is considered if it holds 1% of the time)\n",
    "rules = association_rules(frequent_itemsets, metric=\"confidence\", min_threshold=0.01)\n"
   ]
  },
  {
   "cell_type": "code",
   "execution_count": null,
   "id": "c5e5f08a-9efb-41ae-a14b-1dbb032a8bc3",
   "metadata": {},
   "outputs": [],
   "source": [
    "\n",
    "# Step 6: Export the Results to CSV Files\n",
    "# Export the binary transaction dataset\n",
    "binary_df.to_csv('binary_transactions.csv', index=False)\n",
    "\n",
    "# Export the frequent itemsets\n",
    "frequent_itemsets.to_csv('frequent_itemsets.csv', index=False)\n",
    "\n",
    "# Export the association rules\n",
    "rules.to_csv('association_rules.csv', index=False)\n"
   ]
  },
  {
   "cell_type": "code",
   "execution_count": null,
   "id": "f54e6ef5-b5c1-48db-9e2e-e636c13a2127",
   "metadata": {},
   "outputs": [],
   "source": [
    "\n",
    "# Step 7: Display Key Insights\n",
    "print(\"Frequent Itemsets:\")\n",
    "print(frequent_itemsets)\n",
    "\n",
    "print(\"\\nAssociation Rules:\")\n",
    "print(rules)\n",
    "\n",
    "import matplotlib.pyplot as plt\n",
    "import seaborn as sns\n",
    "\n",
    "# Plotting the rules\n",
    "plt.figure(figsize=(10, 6))\n",
    "sns.scatterplot(x=\"support\", y=\"confidence\", size=\"lift\", hue=\"lift\", data=rules)\n",
    "plt.title('Support vs Confidence')\n",
    "plt.xlabel('Support')\n",
    "plt.ylabel('Confidence')\n",
    "plt.show()\n",
    "\n"
   ]
  },
  {
   "cell_type": "code",
   "execution_count": null,
   "id": "b0149c90-1777-444a-9666-6083c952a1b4",
   "metadata": {},
   "outputs": [],
   "source": [
    "binary_df.to_csv('binary_data1.csv', index=False)\n",
    "frequent_itemsets.to_csv('frequent_itemsets1.csv', index=False)\n",
    "rules.to_csv('association_rules1.csv', index=False)"
   ]
  },
  {
   "cell_type": "code",
   "execution_count": null,
   "id": "d616afe6-b2a5-4684-b986-bfa6b5243553",
   "metadata": {},
   "outputs": [],
   "source": []
  },
  {
   "cell_type": "code",
   "execution_count": null,
   "id": "1ed095ca-eb7f-473d-b16e-66bfb1143d14",
   "metadata": {},
   "outputs": [],
   "source": []
  }
 ],
 "metadata": {
  "kernelspec": {
   "display_name": "Python 3 (ipykernel)",
   "language": "python",
   "name": "python3"
  },
  "language_info": {
   "codemirror_mode": {
    "name": "ipython",
    "version": 3
   },
   "file_extension": ".py",
   "mimetype": "text/x-python",
   "name": "python",
   "nbconvert_exporter": "python",
   "pygments_lexer": "ipython3",
   "version": "3.12.3"
  }
 },
 "nbformat": 4,
 "nbformat_minor": 5
}
