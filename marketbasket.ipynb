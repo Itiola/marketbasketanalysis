{
 "cells": [
  {
   "cell_type": "code",
   "execution_count": 22,
   "id": "63f5b47b-62c5-43da-9a83-03050e19f6fc",
   "metadata": {},
   "outputs": [],
   "source": [
    "import sqlite3\n",
    "import pandas as pd\n",
    "\n",
    "# Connect to the SQLite database\n",
    "conn = sqlite3.connect('chinook.db')\n",
    "\n",
    "# Query 1: Join the tables and select relevant columns\n",
    "query1 = \"\"\"\n",
    "SELECT \n",
    "    InvoiceId, \n",
    "    GROUP_CONCAT(tracks.Name, ', ') AS PurchasedTracks\n",
    "FROM \n",
    "    invoice_items\n",
    "INNER JOIN \n",
    "    tracks ON invoice_items.TrackId = tracks.TrackId\n",
    "GROUP BY \n",
    "    InvoiceId;\n",
    "\"\"\"\n",
    "\n",
    "# Save the result of the first query to a CSV file (optional)\n",
    "df1.to_csv('transactions.csv', index=False)\n",
    "\n",
    "# Query 2: Select distinct track names\n",
    "query2 = \"SELECT DISTINCT Name FROM tracks;\"\n",
    "\n",
    "# Save the result of the second query to a CSV file (optional)\n",
    "df2.to_csv('distinct_transactions.csv', index=False)\n",
    "\n",
    "# Close the database connection\n",
    "conn.close()\n"
   ]
  },
  {
   "cell_type": "code",
   "execution_count": 23,
   "id": "4927e866-767a-4b2b-9855-4b59f30f4de9",
   "metadata": {},
   "outputs": [
    {
     "name": "stdout",
     "output_type": "stream",
     "text": [
      "     \"?\"  \"Jupiter\": IV. Molto allegro  \"Moonlight\": I. Adagio sostenuto  \\\n",
      "0  False                         False                             False   \n",
      "1  False                         False                             False   \n",
      "2  False                         False                             False   \n",
      "3  False                         False                             False   \n",
      "4  False                         False                             False   \n",
      "\n",
      "   #9 Dream  'Round Midnight  (Anesthesia) Pulling Teeth  \\\n",
      "0     False            False                       False   \n",
      "1     False            False                       False   \n",
      "2     False            False                       False   \n",
      "3     False            False                       False   \n",
      "4     False            False                       False   \n",
      "\n",
      "   (White Man) In Hammersmith Palais  (Wish I Could) Hideaway  ...And Found  \\\n",
      "0                              False                    False         False   \n",
      "1                              False                    False         False   \n",
      "2                              False                    False         False   \n",
      "3                              False                    False         False   \n",
      "4                              False                    False         False   \n",
      "\n",
      "   ...And Justice For All  ...  and Future  the Bringer of Jollity  \\\n",
      "0                   False  ...       False                   False   \n",
      "1                   False  ...       False                   False   \n",
      "2                   False  ...       False                   False   \n",
      "3                   False  ...       False                   False   \n",
      "4                   False  ...       False                   False   \n",
      "\n",
      "   the Secrets of Our Hearts\"  Às Vezes  Água E Fogo  Água de Beber  Álibi  \\\n",
      "0                       False     False        False          False  False   \n",
      "1                       False     False        False          False  False   \n",
      "2                       False     False        False          False  False   \n",
      "3                       False     False        False          False  False   \n",
      "4                       False     False        False          False  False   \n",
      "\n",
      "   É Fogo  Étude 1  Óculos  \n",
      "0   False    False   False  \n",
      "1   False    False   False  \n",
      "2   False    False   False  \n",
      "3   False    False   False  \n",
      "4   False    False   False  \n",
      "\n",
      "[5 rows x 1940 columns]\n"
     ]
    }
   ],
   "source": [
    "import pandas as pd\n",
    "from mlxtend.preprocessing import TransactionEncoder\n",
    "from mlxtend.frequent_patterns import apriori, association_rules\n",
    "\n",
    "# Load the data\n",
    "data = pd.read_csv('transactions.csv')\n",
    "\n",
    "# Convert the PurchasedTracks column into a list of lists\n",
    "transactions = data['PurchasedTracks'].apply(lambda x: x.split(', ')).tolist()\n",
    "\n",
    "# Use TransactionEncoder to transform the list of lists into a one-hot encoded DataFrame\n",
    "te = TransactionEncoder()\n",
    "te_ary = te.fit(transactions).transform(transactions)\n",
    "df = pd.DataFrame(te_ary, columns=te.columns_)\n",
    "\n",
    "# Display the binary transaction matrix\n",
    "print(df.head())\n",
    "\n",
    "\n"
   ]
  },
  {
   "cell_type": "code",
   "execution_count": 24,
   "id": "5206d120-08a3-419b-8f1b-c41a8d267ebd",
   "metadata": {},
   "outputs": [
    {
     "name": "stdout",
     "output_type": "stream",
     "text": [
      "     \"?\"  \"Jupiter\": IV. Molto allegro  \"Moonlight\": I. Adagio sostenuto  \\\n",
      "0  False                         False                             False   \n",
      "1  False                         False                             False   \n",
      "2  False                         False                             False   \n",
      "3  False                         False                             False   \n",
      "4  False                         False                             False   \n",
      "\n",
      "   #9 Dream  'Round Midnight  (Anesthesia) Pulling Teeth  \\\n",
      "0     False            False                       False   \n",
      "1     False            False                       False   \n",
      "2     False            False                       False   \n",
      "3     False            False                       False   \n",
      "4     False            False                       False   \n",
      "\n",
      "   (White Man) In Hammersmith Palais  (Wish I Could) Hideaway  ...And Found  \\\n",
      "0                              False                    False         False   \n",
      "1                              False                    False         False   \n",
      "2                              False                    False         False   \n",
      "3                              False                    False         False   \n",
      "4                              False                    False         False   \n",
      "\n",
      "   ...And Justice For All  ...  and Future  the Bringer of Jollity  \\\n",
      "0                   False  ...       False                   False   \n",
      "1                   False  ...       False                   False   \n",
      "2                   False  ...       False                   False   \n",
      "3                   False  ...       False                   False   \n",
      "4                   False  ...       False                   False   \n",
      "\n",
      "   the Secrets of Our Hearts\"  Às Vezes  Água E Fogo  Água de Beber  Álibi  \\\n",
      "0                       False     False        False          False  False   \n",
      "1                       False     False        False          False  False   \n",
      "2                       False     False        False          False  False   \n",
      "3                       False     False        False          False  False   \n",
      "4                       False     False        False          False  False   \n",
      "\n",
      "   É Fogo  Étude 1  Óculos  \n",
      "0   False    False   False  \n",
      "1   False    False   False  \n",
      "2   False    False   False  \n",
      "3   False    False   False  \n",
      "4   False    False   False  \n",
      "\n",
      "[5 rows x 1940 columns]\n"
     ]
    }
   ],
   "source": [
    "import pandas as pd\n",
    "from mlxtend.preprocessing import TransactionEncoder\n",
    "from mlxtend.frequent_patterns import apriori, association_rules\n",
    "\n",
    "# Load the data\n",
    "data = pd.read_csv('transactions.csv')\n",
    "\n",
    "# Convert the PurchasedTracks column into a list of lists\n",
    "transactions = data['PurchasedTracks'].apply(lambda x: x.split(', ')).tolist()\n",
    "\n",
    "# Use TransactionEncoder to transform the list of lists into a one-hot encoded DataFrame\n",
    "te = TransactionEncoder()\n",
    "te_ary = te.fit(transactions).transform(transactions)\n",
    "df = pd.DataFrame(te_ary, columns=te.columns_)\n",
    "\n",
    "# Display the binary transaction matrix\n",
    "print(df.head())\n"
   ]
  },
  {
   "cell_type": "code",
   "execution_count": 25,
   "id": "fcac9617-05f5-416f-a3e7-d39bf3d0f5ee",
   "metadata": {},
   "outputs": [
    {
     "name": "stdout",
     "output_type": "stream",
     "text": [
      "    support       itemsets\n",
      "0  0.019417        (Pt. 1)\n",
      "1  0.014563        (Pt. 2)\n",
      "2  0.012136  (The Trooper)\n"
     ]
    }
   ],
   "source": [
    "# Apply the Apriori algorithm to find frequent itemsets\n",
    "frequent_itemsets = apriori(df, min_support=0.01, use_colnames=True)\n",
    "\n",
    "# Display the frequent itemsets\n",
    "print(frequent_itemsets)\n"
   ]
  },
  {
   "cell_type": "code",
   "execution_count": 26,
   "id": "482c2fd6-4474-4ab4-9797-1a6285ef076e",
   "metadata": {},
   "outputs": [
    {
     "name": "stdout",
     "output_type": "stream",
     "text": [
      "Empty DataFrame\n",
      "Columns: [antecedents, consequents, support, confidence, lift]\n",
      "Index: []\n"
     ]
    }
   ],
   "source": [
    "# Generate association rules from the frequent itemsets\n",
    "rules = association_rules(frequent_itemsets, metric=\"lift\", min_threshold=1)\n",
    "\n",
    "# Display the generated rules\n",
    "print(rules[['antecedents', 'consequents', 'support', 'confidence', 'lift']])\n"
   ]
  },
  {
   "cell_type": "code",
   "execution_count": 28,
   "id": "54067715-cac0-4cd8-aea8-0c89dcbfbc59",
   "metadata": {},
   "outputs": [
    {
     "name": "stderr",
     "output_type": "stream",
     "text": [
      "C:\\Users\\USER\\AppData\\Local\\Programs\\Python\\Python312\\Lib\\site-packages\\IPython\\core\\pylabtools.py:77: DeprecationWarning: backend2gui is deprecated since IPython 8.24, backends are managed in matplotlib and can be externally registered.\n",
      "  warnings.warn(\n",
      "C:\\Users\\USER\\AppData\\Local\\Programs\\Python\\Python312\\Lib\\site-packages\\IPython\\core\\pylabtools.py:77: DeprecationWarning: backend2gui is deprecated since IPython 8.24, backends are managed in matplotlib and can be externally registered.\n",
      "  warnings.warn(\n",
      "C:\\Users\\USER\\AppData\\Local\\Programs\\Python\\Python312\\Lib\\site-packages\\IPython\\core\\pylabtools.py:77: DeprecationWarning: backend2gui is deprecated since IPython 8.24, backends are managed in matplotlib and can be externally registered.\n",
      "  warnings.warn(\n"
     ]
    },
    {
     "data": {
      "image/png": "[encoded data removed]",
      "text/plain": [
       "<Figure size 1000x600 with 1 Axes>"
      ]
     },
     "metadata": {},
     "output_type": "display_data"
    }
   ],
   "source": [
    "import matplotlib.pyplot as plt\n",
    "import seaborn as sns\n",
    "\n",
    "# Plotting the rules\n",
    "plt.figure(figsize=(10, 6))\n",
    "sns.scatterplot(x=\"support\", y=\"confidence\", size=\"lift\", hue=\"lift\", data=rules)\n",
    "plt.title('Support vs Confidence')\n",
    "plt.xlabel('Support')\n",
    "plt.ylabel('Confidence')\n",
    "plt.show()\n"
   ]
  },
  {
   "cell_type": "code",
   "execution_count": 29,
   "id": "86f9d362-b41c-496b-a8f3-d538d2967238",
   "metadata": {},
   "outputs": [],
   "source": [
    "frequent_itemsets.to_csv('frequent_itemsets.csv', index=False)\n",
    "rules.to_csv('association_rules.csv', index=False)"
   ]
  },
  {
   "cell_type": "code",
   "execution_count": null,
   "id": "d4fa2bdf-c288-43bc-b542-a48c4f5b71fe",
   "metadata": {},
   "outputs": [],
   "source": []
  }
 ],
 "metadata": {
  "kernelspec": {
   "display_name": "Python 3 (ipykernel)",
   "language": "python",
   "name": "python3"
  },
  "language_info": {
   "codemirror_mode": {
    "name": "ipython",
    "version": 3
   },
   "file_extension": ".py",
   "mimetype": "text/x-python",
   "name": "python",
   "nbconvert_exporter": "python",
   "pygments_lexer": "ipython3",
   "version": "3.12.3"
  }
 },
 "nbformat": 4,
 "nbformat_minor": 5
}
